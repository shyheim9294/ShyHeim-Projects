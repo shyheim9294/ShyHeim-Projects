{
  "nbformat": 4,
  "nbformat_minor": 0,
  "metadata": {
    "colab": {
      "name": "Bagging_Boosting_Projectt.ipynb",
      "provenance": [],
      "collapsed_sections": []
    },
    "kernelspec": {
      "name": "python3",
      "display_name": "Python 3"
    },
    "language_info": {
      "name": "python"
    }
  },
  "cells": [
    {
      "cell_type": "code",
      "metadata": {
        "id": "c6WrpZ1yXJXn"
      },
      "source": [
        "import pandas as pd\n",
        "import numpy as np\n",
        "\n",
        "import warnings\n",
        "warnings.filterwarnings('ignore')\n",
        "\n",
        "import seaborn as sns\n",
        "import matplotlib.pyplot as plt\n",
        "%matplotlib inline\n",
        "sns.set(style='white', color_codes=True)"
      ],
      "execution_count": null,
      "outputs": []
    },
    {
      "cell_type": "code",
      "metadata": {
        "id": "LhgMwytbcwQz"
      },
      "source": [
        "data = pd.read_csv(\"/talking_data.csv\")"
      ],
      "execution_count": null,
      "outputs": []
    },
    {
      "cell_type": "code",
      "metadata": {
        "id": "AOpFfyIwdr4v"
      },
      "source": [
        "data = data.drop(['attributed_time'], axis=1)\n",
        "data = data.drop(['click_time'], axis=1)"
      ],
      "execution_count": null,
      "outputs": []
    },
    {
      "cell_type": "code",
      "metadata": {
        "colab": {
          "base_uri": "https://localhost:8080/",
          "height": 204
        },
        "id": "CAIYH785ecDd",
        "outputId": "0cbff427-4430-4186-d35e-ed922364504b"
      },
      "source": [
        "data.head()"
      ],
      "execution_count": null,
      "outputs": [
        {
          "output_type": "execute_result",
          "data": {
            "text/html": [
              "<div>\n",
              "<style scoped>\n",
              "    .dataframe tbody tr th:only-of-type {\n",
              "        vertical-align: middle;\n",
              "    }\n",
              "\n",
              "    .dataframe tbody tr th {\n",
              "        vertical-align: top;\n",
              "    }\n",
              "\n",
              "    .dataframe thead th {\n",
              "        text-align: right;\n",
              "    }\n",
              "</style>\n",
              "<table border=\"1\" class=\"dataframe\">\n",
              "  <thead>\n",
              "    <tr style=\"text-align: right;\">\n",
              "      <th></th>\n",
              "      <th>ip</th>\n",
              "      <th>app</th>\n",
              "      <th>device</th>\n",
              "      <th>os</th>\n",
              "      <th>channel</th>\n",
              "      <th>is_attributed</th>\n",
              "    </tr>\n",
              "  </thead>\n",
              "  <tbody>\n",
              "    <tr>\n",
              "      <th>0</th>\n",
              "      <td>87540</td>\n",
              "      <td>12</td>\n",
              "      <td>1</td>\n",
              "      <td>13</td>\n",
              "      <td>497</td>\n",
              "      <td>0</td>\n",
              "    </tr>\n",
              "    <tr>\n",
              "      <th>1</th>\n",
              "      <td>105560</td>\n",
              "      <td>25</td>\n",
              "      <td>1</td>\n",
              "      <td>17</td>\n",
              "      <td>259</td>\n",
              "      <td>0</td>\n",
              "    </tr>\n",
              "    <tr>\n",
              "      <th>2</th>\n",
              "      <td>101424</td>\n",
              "      <td>12</td>\n",
              "      <td>1</td>\n",
              "      <td>19</td>\n",
              "      <td>212</td>\n",
              "      <td>0</td>\n",
              "    </tr>\n",
              "    <tr>\n",
              "      <th>3</th>\n",
              "      <td>94584</td>\n",
              "      <td>13</td>\n",
              "      <td>1</td>\n",
              "      <td>13</td>\n",
              "      <td>477</td>\n",
              "      <td>0</td>\n",
              "    </tr>\n",
              "    <tr>\n",
              "      <th>4</th>\n",
              "      <td>68413</td>\n",
              "      <td>12</td>\n",
              "      <td>1</td>\n",
              "      <td>1</td>\n",
              "      <td>178</td>\n",
              "      <td>0</td>\n",
              "    </tr>\n",
              "  </tbody>\n",
              "</table>\n",
              "</div>"
            ],
            "text/plain": [
              "       ip  app  device  os  channel  is_attributed\n",
              "0   87540   12       1  13      497              0\n",
              "1  105560   25       1  17      259              0\n",
              "2  101424   12       1  19      212              0\n",
              "3   94584   13       1  13      477              0\n",
              "4   68413   12       1   1      178              0"
            ]
          },
          "metadata": {
            "tags": []
          },
          "execution_count": 11
        }
      ]
    },
    {
      "cell_type": "code",
      "metadata": {
        "colab": {
          "base_uri": "https://localhost:8080/"
        },
        "id": "RvN_0JeqfHNK",
        "outputId": "c356af7c-d8a7-4057-c734-b8df5809e7bf"
      },
      "source": [
        "data.info()"
      ],
      "execution_count": null,
      "outputs": [
        {
          "output_type": "stream",
          "text": [
            "<class 'pandas.core.frame.DataFrame'>\n",
            "RangeIndex: 100000 entries, 0 to 99999\n",
            "Data columns (total 6 columns):\n",
            " #   Column         Non-Null Count   Dtype\n",
            "---  ------         --------------   -----\n",
            " 0   ip             100000 non-null  int64\n",
            " 1   app            100000 non-null  int64\n",
            " 2   device         100000 non-null  int64\n",
            " 3   os             100000 non-null  int64\n",
            " 4   channel        100000 non-null  int64\n",
            " 5   is_attributed  100000 non-null  int64\n",
            "dtypes: int64(6)\n",
            "memory usage: 4.6 MB\n"
          ],
          "name": "stdout"
        }
      ]
    },
    {
      "cell_type": "code",
      "metadata": {
        "colab": {
          "base_uri": "https://localhost:8080/",
          "height": 317
        },
        "id": "rd81s7hJfvRr",
        "outputId": "43763247-64f5-45f7-9591-52bddb2383ba"
      },
      "source": [
        "data.describe()"
      ],
      "execution_count": null,
      "outputs": [
        {
          "output_type": "execute_result",
          "data": {
            "text/html": [
              "<div>\n",
              "<style scoped>\n",
              "    .dataframe tbody tr th:only-of-type {\n",
              "        vertical-align: middle;\n",
              "    }\n",
              "\n",
              "    .dataframe tbody tr th {\n",
              "        vertical-align: top;\n",
              "    }\n",
              "\n",
              "    .dataframe thead th {\n",
              "        text-align: right;\n",
              "    }\n",
              "</style>\n",
              "<table border=\"1\" class=\"dataframe\">\n",
              "  <thead>\n",
              "    <tr style=\"text-align: right;\">\n",
              "      <th></th>\n",
              "      <th>ip</th>\n",
              "      <th>app</th>\n",
              "      <th>device</th>\n",
              "      <th>os</th>\n",
              "      <th>channel</th>\n",
              "      <th>is_attributed</th>\n",
              "    </tr>\n",
              "  </thead>\n",
              "  <tbody>\n",
              "    <tr>\n",
              "      <th>count</th>\n",
              "      <td>100000.000000</td>\n",
              "      <td>100000.00000</td>\n",
              "      <td>100000.000000</td>\n",
              "      <td>100000.000000</td>\n",
              "      <td>100000.000000</td>\n",
              "      <td>100000.000000</td>\n",
              "    </tr>\n",
              "    <tr>\n",
              "      <th>mean</th>\n",
              "      <td>91255.879670</td>\n",
              "      <td>12.04788</td>\n",
              "      <td>21.771250</td>\n",
              "      <td>22.818280</td>\n",
              "      <td>268.832460</td>\n",
              "      <td>0.002270</td>\n",
              "    </tr>\n",
              "    <tr>\n",
              "      <th>std</th>\n",
              "      <td>69835.553661</td>\n",
              "      <td>14.94150</td>\n",
              "      <td>259.667767</td>\n",
              "      <td>55.943136</td>\n",
              "      <td>129.724248</td>\n",
              "      <td>0.047591</td>\n",
              "    </tr>\n",
              "    <tr>\n",
              "      <th>min</th>\n",
              "      <td>9.000000</td>\n",
              "      <td>1.00000</td>\n",
              "      <td>0.000000</td>\n",
              "      <td>0.000000</td>\n",
              "      <td>3.000000</td>\n",
              "      <td>0.000000</td>\n",
              "    </tr>\n",
              "    <tr>\n",
              "      <th>25%</th>\n",
              "      <td>40552.000000</td>\n",
              "      <td>3.00000</td>\n",
              "      <td>1.000000</td>\n",
              "      <td>13.000000</td>\n",
              "      <td>145.000000</td>\n",
              "      <td>0.000000</td>\n",
              "    </tr>\n",
              "    <tr>\n",
              "      <th>50%</th>\n",
              "      <td>79827.000000</td>\n",
              "      <td>12.00000</td>\n",
              "      <td>1.000000</td>\n",
              "      <td>18.000000</td>\n",
              "      <td>258.000000</td>\n",
              "      <td>0.000000</td>\n",
              "    </tr>\n",
              "    <tr>\n",
              "      <th>75%</th>\n",
              "      <td>118252.000000</td>\n",
              "      <td>15.00000</td>\n",
              "      <td>1.000000</td>\n",
              "      <td>19.000000</td>\n",
              "      <td>379.000000</td>\n",
              "      <td>0.000000</td>\n",
              "    </tr>\n",
              "    <tr>\n",
              "      <th>max</th>\n",
              "      <td>364757.000000</td>\n",
              "      <td>551.00000</td>\n",
              "      <td>3867.000000</td>\n",
              "      <td>866.000000</td>\n",
              "      <td>498.000000</td>\n",
              "      <td>1.000000</td>\n",
              "    </tr>\n",
              "  </tbody>\n",
              "</table>\n",
              "</div>"
            ],
            "text/plain": [
              "                  ip           app  ...        channel  is_attributed\n",
              "count  100000.000000  100000.00000  ...  100000.000000  100000.000000\n",
              "mean    91255.879670      12.04788  ...     268.832460       0.002270\n",
              "std     69835.553661      14.94150  ...     129.724248       0.047591\n",
              "min         9.000000       1.00000  ...       3.000000       0.000000\n",
              "25%     40552.000000       3.00000  ...     145.000000       0.000000\n",
              "50%     79827.000000      12.00000  ...     258.000000       0.000000\n",
              "75%    118252.000000      15.00000  ...     379.000000       0.000000\n",
              "max    364757.000000     551.00000  ...     498.000000       1.000000\n",
              "\n",
              "[8 rows x 6 columns]"
            ]
          },
          "metadata": {
            "tags": []
          },
          "execution_count": 13
        }
      ]
    },
    {
      "cell_type": "code",
      "metadata": {
        "colab": {
          "base_uri": "https://localhost:8080/"
        },
        "id": "WjskVcBPf3tX",
        "outputId": "9a7276e2-be84-455e-f9ab-6cf0ab4d0a58"
      },
      "source": [
        "miss_val = data.isna().sum()\n",
        "miss_val"
      ],
      "execution_count": null,
      "outputs": [
        {
          "output_type": "execute_result",
          "data": {
            "text/plain": [
              "ip               0\n",
              "app              0\n",
              "device           0\n",
              "os               0\n",
              "channel          0\n",
              "is_attributed    0\n",
              "dtype: int64"
            ]
          },
          "metadata": {
            "tags": []
          },
          "execution_count": 14
        }
      ]
    },
    {
      "cell_type": "code",
      "metadata": {
        "colab": {
          "base_uri": "https://localhost:8080/"
        },
        "id": "ejIdaGzRgHRH",
        "outputId": "51c555f9-8f45-4ac0-a460-532e2acdeb81"
      },
      "source": [
        "data.info()"
      ],
      "execution_count": null,
      "outputs": [
        {
          "output_type": "stream",
          "text": [
            "<class 'pandas.core.frame.DataFrame'>\n",
            "RangeIndex: 100000 entries, 0 to 99999\n",
            "Data columns (total 6 columns):\n",
            " #   Column         Non-Null Count   Dtype\n",
            "---  ------         --------------   -----\n",
            " 0   ip             100000 non-null  int64\n",
            " 1   app            100000 non-null  int64\n",
            " 2   device         100000 non-null  int64\n",
            " 3   os             100000 non-null  int64\n",
            " 4   channel        100000 non-null  int64\n",
            " 5   is_attributed  100000 non-null  int64\n",
            "dtypes: int64(6)\n",
            "memory usage: 4.6 MB\n"
          ],
          "name": "stdout"
        }
      ]
    },
    {
      "cell_type": "code",
      "metadata": {
        "colab": {
          "base_uri": "https://localhost:8080/",
          "height": 187
        },
        "id": "FM9dqZBSgSd5",
        "outputId": "b8cd81e4-288f-4c14-968a-546afe2cf0cb"
      },
      "source": [
        "data_ct = data.select_dtypes(include='object')\n",
        "data_ct.head()"
      ],
      "execution_count": null,
      "outputs": [
        {
          "output_type": "execute_result",
          "data": {
            "text/html": [
              "<div>\n",
              "<style scoped>\n",
              "    .dataframe tbody tr th:only-of-type {\n",
              "        vertical-align: middle;\n",
              "    }\n",
              "\n",
              "    .dataframe tbody tr th {\n",
              "        vertical-align: top;\n",
              "    }\n",
              "\n",
              "    .dataframe thead th {\n",
              "        text-align: right;\n",
              "    }\n",
              "</style>\n",
              "<table border=\"1\" class=\"dataframe\">\n",
              "  <thead>\n",
              "    <tr style=\"text-align: right;\">\n",
              "      <th></th>\n",
              "    </tr>\n",
              "  </thead>\n",
              "  <tbody>\n",
              "    <tr>\n",
              "      <th>0</th>\n",
              "    </tr>\n",
              "    <tr>\n",
              "      <th>1</th>\n",
              "    </tr>\n",
              "    <tr>\n",
              "      <th>2</th>\n",
              "    </tr>\n",
              "    <tr>\n",
              "      <th>3</th>\n",
              "    </tr>\n",
              "    <tr>\n",
              "      <th>4</th>\n",
              "    </tr>\n",
              "  </tbody>\n",
              "</table>\n",
              "</div>"
            ],
            "text/plain": [
              "Empty DataFrame\n",
              "Columns: []\n",
              "Index: [0, 1, 2, 3, 4]"
            ]
          },
          "metadata": {
            "tags": []
          },
          "execution_count": 16
        }
      ]
    },
    {
      "cell_type": "code",
      "metadata": {
        "colab": {
          "base_uri": "https://localhost:8080/",
          "height": 204
        },
        "id": "7jWck_6qgxSE",
        "outputId": "6c25863d-e03a-4232-ac45-5f28ae4bb2b7"
      },
      "source": [
        "data_num = data.select_dtypes(include=['float64','int64'])\n",
        "data_num.head()"
      ],
      "execution_count": null,
      "outputs": [
        {
          "output_type": "execute_result",
          "data": {
            "text/html": [
              "<div>\n",
              "<style scoped>\n",
              "    .dataframe tbody tr th:only-of-type {\n",
              "        vertical-align: middle;\n",
              "    }\n",
              "\n",
              "    .dataframe tbody tr th {\n",
              "        vertical-align: top;\n",
              "    }\n",
              "\n",
              "    .dataframe thead th {\n",
              "        text-align: right;\n",
              "    }\n",
              "</style>\n",
              "<table border=\"1\" class=\"dataframe\">\n",
              "  <thead>\n",
              "    <tr style=\"text-align: right;\">\n",
              "      <th></th>\n",
              "      <th>ip</th>\n",
              "      <th>app</th>\n",
              "      <th>device</th>\n",
              "      <th>os</th>\n",
              "      <th>channel</th>\n",
              "      <th>is_attributed</th>\n",
              "    </tr>\n",
              "  </thead>\n",
              "  <tbody>\n",
              "    <tr>\n",
              "      <th>0</th>\n",
              "      <td>87540</td>\n",
              "      <td>12</td>\n",
              "      <td>1</td>\n",
              "      <td>13</td>\n",
              "      <td>497</td>\n",
              "      <td>0</td>\n",
              "    </tr>\n",
              "    <tr>\n",
              "      <th>1</th>\n",
              "      <td>105560</td>\n",
              "      <td>25</td>\n",
              "      <td>1</td>\n",
              "      <td>17</td>\n",
              "      <td>259</td>\n",
              "      <td>0</td>\n",
              "    </tr>\n",
              "    <tr>\n",
              "      <th>2</th>\n",
              "      <td>101424</td>\n",
              "      <td>12</td>\n",
              "      <td>1</td>\n",
              "      <td>19</td>\n",
              "      <td>212</td>\n",
              "      <td>0</td>\n",
              "    </tr>\n",
              "    <tr>\n",
              "      <th>3</th>\n",
              "      <td>94584</td>\n",
              "      <td>13</td>\n",
              "      <td>1</td>\n",
              "      <td>13</td>\n",
              "      <td>477</td>\n",
              "      <td>0</td>\n",
              "    </tr>\n",
              "    <tr>\n",
              "      <th>4</th>\n",
              "      <td>68413</td>\n",
              "      <td>12</td>\n",
              "      <td>1</td>\n",
              "      <td>1</td>\n",
              "      <td>178</td>\n",
              "      <td>0</td>\n",
              "    </tr>\n",
              "  </tbody>\n",
              "</table>\n",
              "</div>"
            ],
            "text/plain": [
              "       ip  app  device  os  channel  is_attributed\n",
              "0   87540   12       1  13      497              0\n",
              "1  105560   25       1  17      259              0\n",
              "2  101424   12       1  19      212              0\n",
              "3   94584   13       1  13      477              0\n",
              "4   68413   12       1   1      178              0"
            ]
          },
          "metadata": {
            "tags": []
          },
          "execution_count": 17
        }
      ]
    },
    {
      "cell_type": "code",
      "metadata": {
        "colab": {
          "base_uri": "https://localhost:8080/"
        },
        "id": "E0d9l5OthTo9",
        "outputId": "7134c6b4-a491-48b1-9aec-79c041dcf6d8"
      },
      "source": [
        "data.is_attributed.value_counts()"
      ],
      "execution_count": null,
      "outputs": [
        {
          "output_type": "execute_result",
          "data": {
            "text/plain": [
              "0    99773\n",
              "1      227\n",
              "Name: is_attributed, dtype: int64"
            ]
          },
          "metadata": {
            "tags": []
          },
          "execution_count": 18
        }
      ]
    },
    {
      "cell_type": "code",
      "metadata": {
        "colab": {
          "base_uri": "https://localhost:8080/",
          "height": 318
        },
        "id": "yn9otA7_he7K",
        "outputId": "ce2a0b75-58d5-4506-e21e-67451d3100a8"
      },
      "source": [
        "sns.countplot('is_attributed', data = data)\n",
        "plt.title(\"is_attributed\")"
      ],
      "execution_count": null,
      "outputs": [
        {
          "output_type": "execute_result",
          "data": {
            "text/plain": [
              "Text(0.5, 1.0, 'is_attributed')"
            ]
          },
          "metadata": {
            "tags": []
          },
          "execution_count": 19
        },
        {
          "output_type": "display_data",
          "data": {
            "image/png": "[encoded data removed]",
            "text/plain": [
              "<Figure size 432x288 with 1 Axes>"
            ]
          },
          "metadata": {
            "tags": []
          }
        }
      ]
    },
    {
      "cell_type": "code",
      "metadata": {
        "id": "xCqbckTsjOMi"
      },
      "source": [
        "from sklearn import preprocessing \n",
        "label_encoder = preprocessing.LabelEncoder() \n",
        "data['is_attributed']= label_encoder.fit_transform(data['is_attributed'])\n"
      ],
      "execution_count": null,
      "outputs": []
    },
    {
      "cell_type": "code",
      "metadata": {
        "colab": {
          "base_uri": "https://localhost:8080/"
        },
        "id": "Bsu4sJb1jQa5",
        "outputId": "c573062f-f486-4744-8c44-3d5d9c693608"
      },
      "source": [
        "data['is_attributed'].unique()"
      ],
      "execution_count": null,
      "outputs": [
        {
          "output_type": "execute_result",
          "data": {
            "text/plain": [
              "array([0, 1])"
            ]
          },
          "metadata": {
            "tags": []
          },
          "execution_count": 23
        }
      ]
    },
    {
      "cell_type": "code",
      "metadata": {
        "colab": {
          "base_uri": "https://localhost:8080/",
          "height": 204
        },
        "id": "gjDeHl8NkZRr",
        "outputId": "d4aab477-d5d7-48d5-9887-63d9ce05c0e4"
      },
      "source": [
        "data.head()"
      ],
      "execution_count": null,
      "outputs": [
        {
          "output_type": "execute_result",
          "data": {
            "text/html": [
              "<div>\n",
              "<style scoped>\n",
              "    .dataframe tbody tr th:only-of-type {\n",
              "        vertical-align: middle;\n",
              "    }\n",
              "\n",
              "    .dataframe tbody tr th {\n",
              "        vertical-align: top;\n",
              "    }\n",
              "\n",
              "    .dataframe thead th {\n",
              "        text-align: right;\n",
              "    }\n",
              "</style>\n",
              "<table border=\"1\" class=\"dataframe\">\n",
              "  <thead>\n",
              "    <tr style=\"text-align: right;\">\n",
              "      <th></th>\n",
              "      <th>ip</th>\n",
              "      <th>app</th>\n",
              "      <th>device</th>\n",
              "      <th>os</th>\n",
              "      <th>channel</th>\n",
              "      <th>is_attributed</th>\n",
              "    </tr>\n",
              "  </thead>\n",
              "  <tbody>\n",
              "    <tr>\n",
              "      <th>0</th>\n",
              "      <td>87540</td>\n",
              "      <td>12</td>\n",
              "      <td>1</td>\n",
              "      <td>13</td>\n",
              "      <td>497</td>\n",
              "      <td>0</td>\n",
              "    </tr>\n",
              "    <tr>\n",
              "      <th>1</th>\n",
              "      <td>105560</td>\n",
              "      <td>25</td>\n",
              "      <td>1</td>\n",
              "      <td>17</td>\n",
              "      <td>259</td>\n",
              "      <td>0</td>\n",
              "    </tr>\n",
              "    <tr>\n",
              "      <th>2</th>\n",
              "      <td>101424</td>\n",
              "      <td>12</td>\n",
              "      <td>1</td>\n",
              "      <td>19</td>\n",
              "      <td>212</td>\n",
              "      <td>0</td>\n",
              "    </tr>\n",
              "    <tr>\n",
              "      <th>3</th>\n",
              "      <td>94584</td>\n",
              "      <td>13</td>\n",
              "      <td>1</td>\n",
              "      <td>13</td>\n",
              "      <td>477</td>\n",
              "      <td>0</td>\n",
              "    </tr>\n",
              "    <tr>\n",
              "      <th>4</th>\n",
              "      <td>68413</td>\n",
              "      <td>12</td>\n",
              "      <td>1</td>\n",
              "      <td>1</td>\n",
              "      <td>178</td>\n",
              "      <td>0</td>\n",
              "    </tr>\n",
              "  </tbody>\n",
              "</table>\n",
              "</div>"
            ],
            "text/plain": [
              "       ip  app  device  os  channel  is_attributed\n",
              "0   87540   12       1  13      497              0\n",
              "1  105560   25       1  17      259              0\n",
              "2  101424   12       1  19      212              0\n",
              "3   94584   13       1  13      477              0\n",
              "4   68413   12       1   1      178              0"
            ]
          },
          "metadata": {
            "tags": []
          },
          "execution_count": 24
        }
      ]
    },
    {
      "cell_type": "code",
      "metadata": {
        "colab": {
          "base_uri": "https://localhost:8080/",
          "height": 235
        },
        "id": "Cx9m7BFVkotT",
        "outputId": "33054d84-c3b3-4d24-de49-18e0767b0741"
      },
      "source": [
        "corr = data.corr()\n",
        "corr"
      ],
      "execution_count": null,
      "outputs": [
        {
          "output_type": "execute_result",
          "data": {
            "text/html": [
              "<div>\n",
              "<style scoped>\n",
              "    .dataframe tbody tr th:only-of-type {\n",
              "        vertical-align: middle;\n",
              "    }\n",
              "\n",
              "    .dataframe tbody tr th {\n",
              "        vertical-align: top;\n",
              "    }\n",
              "\n",
              "    .dataframe thead th {\n",
              "        text-align: right;\n",
              "    }\n",
              "</style>\n",
              "<table border=\"1\" class=\"dataframe\">\n",
              "  <thead>\n",
              "    <tr style=\"text-align: right;\">\n",
              "      <th></th>\n",
              "      <th>ip</th>\n",
              "      <th>app</th>\n",
              "      <th>device</th>\n",
              "      <th>os</th>\n",
              "      <th>channel</th>\n",
              "      <th>is_attributed</th>\n",
              "    </tr>\n",
              "  </thead>\n",
              "  <tbody>\n",
              "    <tr>\n",
              "      <th>ip</th>\n",
              "      <td>1.000000</td>\n",
              "      <td>0.010400</td>\n",
              "      <td>-0.001499</td>\n",
              "      <td>-0.000470</td>\n",
              "      <td>0.007563</td>\n",
              "      <td>0.054955</td>\n",
              "    </tr>\n",
              "    <tr>\n",
              "      <th>app</th>\n",
              "      <td>0.010400</td>\n",
              "      <td>1.000000</td>\n",
              "      <td>0.248376</td>\n",
              "      <td>0.247160</td>\n",
              "      <td>-0.028238</td>\n",
              "      <td>0.064426</td>\n",
              "    </tr>\n",
              "    <tr>\n",
              "      <th>device</th>\n",
              "      <td>-0.001499</td>\n",
              "      <td>0.248376</td>\n",
              "      <td>1.000000</td>\n",
              "      <td>0.924456</td>\n",
              "      <td>-0.035398</td>\n",
              "      <td>-0.000695</td>\n",
              "    </tr>\n",
              "    <tr>\n",
              "      <th>os</th>\n",
              "      <td>-0.000470</td>\n",
              "      <td>0.247160</td>\n",
              "      <td>0.924456</td>\n",
              "      <td>1.000000</td>\n",
              "      <td>-0.033175</td>\n",
              "      <td>0.006183</td>\n",
              "    </tr>\n",
              "    <tr>\n",
              "      <th>channel</th>\n",
              "      <td>0.007563</td>\n",
              "      <td>-0.028238</td>\n",
              "      <td>-0.035398</td>\n",
              "      <td>-0.033175</td>\n",
              "      <td>1.000000</td>\n",
              "      <td>-0.023336</td>\n",
              "    </tr>\n",
              "    <tr>\n",
              "      <th>is_attributed</th>\n",
              "      <td>0.054955</td>\n",
              "      <td>0.064426</td>\n",
              "      <td>-0.000695</td>\n",
              "      <td>0.006183</td>\n",
              "      <td>-0.023336</td>\n",
              "      <td>1.000000</td>\n",
              "    </tr>\n",
              "  </tbody>\n",
              "</table>\n",
              "</div>"
            ],
            "text/plain": [
              "                     ip       app    device        os   channel  is_attributed\n",
              "ip             1.000000  0.010400 -0.001499 -0.000470  0.007563       0.054955\n",
              "app            0.010400  1.000000  0.248376  0.247160 -0.028238       0.064426\n",
              "device        -0.001499  0.248376  1.000000  0.924456 -0.035398      -0.000695\n",
              "os            -0.000470  0.247160  0.924456  1.000000 -0.033175       0.006183\n",
              "channel        0.007563 -0.028238 -0.035398 -0.033175  1.000000      -0.023336\n",
              "is_attributed  0.054955  0.064426 -0.000695  0.006183 -0.023336       1.000000"
            ]
          },
          "metadata": {
            "tags": []
          },
          "execution_count": 25
        }
      ]
    },
    {
      "cell_type": "code",
      "metadata": {
        "colab": {
          "base_uri": "https://localhost:8080/",
          "height": 411
        },
        "id": "KNS_bzMXk_Dj",
        "outputId": "f6cd7c0c-659c-499e-fd5f-461bcf7851b4"
      },
      "source": [
        "plt.figure(figsize=(6,6))\n",
        "sns.heatmap(corr, annot=True, cmap='cubehelix_r',square=True) \n",
        "plt.show()"
      ],
      "execution_count": null,
      "outputs": [
        {
          "output_type": "display_data",
          "data": {
            "image/png": "[encoded data removed]",
            "text/plain": [
              "<Figure size 432x432 with 2 Axes>"
            ]
          },
          "metadata": {
            "tags": []
          }
        }
      ]
    },
    {
      "cell_type": "code",
      "metadata": {
        "colab": {
          "base_uri": "https://localhost:8080/"
        },
        "id": "VkeU0bAjlYW8",
        "outputId": "1fc28690-c944-4cbf-9cad-6819f008d248"
      },
      "source": [
        "abs(corr['is_attributed'])[:-1].sort_values(ascending = False)"
      ],
      "execution_count": null,
      "outputs": [
        {
          "output_type": "execute_result",
          "data": {
            "text/plain": [
              "app        0.064426\n",
              "ip         0.054955\n",
              "channel    0.023336\n",
              "os         0.006183\n",
              "device     0.000695\n",
              "Name: is_attributed, dtype: float64"
            ]
          },
          "metadata": {
            "tags": []
          },
          "execution_count": 27
        }
      ]
    },
    {
      "cell_type": "code",
      "metadata": {
        "id": "bSMN8GRblhTZ"
      },
      "source": [
        "data_train = data[:1460]\n",
        "data_test = data[1460:]"
      ],
      "execution_count": null,
      "outputs": []
    },
    {
      "cell_type": "code",
      "metadata": {
        "id": "7I_smPSqllen"
      },
      "source": [
        "from sklearn.model_selection import train_test_split\n",
        "train, test = train_test_split(data, test_size=0.30)"
      ],
      "execution_count": null,
      "outputs": []
    },
    {
      "cell_type": "code",
      "metadata": {
        "id": "Qdi6uRTElo9o"
      },
      "source": [
        "train_x = train.drop(['is_attributed'], axis = 1)\n",
        "train_y = train['is_attributed']             \n",
        "\n",
        "test_x = test.drop(['is_attributed'],axis = 1)\n",
        "test_y = test['is_attributed']"
      ],
      "execution_count": null,
      "outputs": []
    },
    {
      "cell_type": "code",
      "metadata": {
        "colab": {
          "base_uri": "https://localhost:8080/"
        },
        "id": "9ed94j8xlt1W",
        "outputId": "7e9080f9-5fb6-452f-bfd3-1adc9fdf8722"
      },
      "source": [
        "print('Dimension of train_x :',train_x.shape)\n",
        "print('Dimension of train_y :',train_y.shape)\n",
        "print('Dimension of test_x :',test_x.shape)\n",
        "print('Dimension of test_y :',test_y.shape)"
      ],
      "execution_count": null,
      "outputs": [
        {
          "output_type": "stream",
          "text": [
            "Dimension of train_x : (70000, 5)\n",
            "Dimension of train_y : (70000,)\n",
            "Dimension of test_x : (30000, 5)\n",
            "Dimension of test_y : (30000,)\n"
          ],
          "name": "stdout"
        }
      ]
    },
    {
      "cell_type": "code",
      "metadata": {
        "colab": {
          "base_uri": "https://localhost:8080/"
        },
        "id": "7bEMKQXClyUT",
        "outputId": "192e0a37-be1c-4564-d6c7-dbe3c19e40bc"
      },
      "source": [
        "from sklearn.tree import DecisionTreeClassifier\n",
        "clf = DecisionTreeClassifier(random_state=0,max_depth=3,criterion=\"gini\")\n",
        "clf.fit(train_x, train_y)"
      ],
      "execution_count": null,
      "outputs": [
        {
          "output_type": "execute_result",
          "data": {
            "text/plain": [
              "DecisionTreeClassifier(ccp_alpha=0.0, class_weight=None, criterion='gini',\n",
              "                       max_depth=3, max_features=None, max_leaf_nodes=None,\n",
              "                       min_impurity_decrease=0.0, min_impurity_split=None,\n",
              "                       min_samples_leaf=1, min_samples_split=2,\n",
              "                       min_weight_fraction_leaf=0.0, presort='deprecated',\n",
              "                       random_state=0, splitter='best')"
            ]
          },
          "metadata": {
            "tags": []
          },
          "execution_count": 32
        }
      ]
    },
    {
      "cell_type": "code",
      "metadata": {
        "colab": {
          "base_uri": "https://localhost:8080/"
        },
        "id": "3003SN1pl2-_",
        "outputId": "54676e7d-381e-408e-972d-88406dbf8e04"
      },
      "source": [
        "pred = clf.predict(test_x)\n",
        "pred"
      ],
      "execution_count": null,
      "outputs": [
        {
          "output_type": "execute_result",
          "data": {
            "text/plain": [
              "array([0, 0, 0, ..., 0, 0, 0])"
            ]
          },
          "metadata": {
            "tags": []
          },
          "execution_count": 33
        }
      ]
    },
    {
      "cell_type": "code",
      "metadata": {
        "colab": {
          "base_uri": "https://localhost:8080/"
        },
        "id": "worGTszDl8gw",
        "outputId": "e2848c46-50ab-4c7d-c04d-70bfbe048710"
      },
      "source": [
        "from sklearn.metrics import accuracy_score\n",
        "\n",
        "print('The accuracy of the Decision Tree is {}%'.format(round(accuracy_score(pred,test_y)*100,2)))"
      ],
      "execution_count": null,
      "outputs": [
        {
          "output_type": "stream",
          "text": [
            "The accuracy of the Decision Tree is 99.81%\n"
          ],
          "name": "stdout"
        }
      ]
    },
    {
      "cell_type": "code",
      "metadata": {
        "colab": {
          "base_uri": "https://localhost:8080/"
        },
        "id": "Pe8-jZj1l946",
        "outputId": "46aa06fa-be8d-4b9b-c29d-33d06dfbd4af"
      },
      "source": [
        "from sklearn.tree import DecisionTreeClassifier\n",
        "clf1 = DecisionTreeClassifier(random_state=0,max_depth=3,criterion=\"entropy\")\n",
        "clf1.fit(train_x, train_y)"
      ],
      "execution_count": null,
      "outputs": [
        {
          "output_type": "execute_result",
          "data": {
            "text/plain": [
              "DecisionTreeClassifier(ccp_alpha=0.0, class_weight=None, criterion='entropy',\n",
              "                       max_depth=3, max_features=None, max_leaf_nodes=None,\n",
              "                       min_impurity_decrease=0.0, min_impurity_split=None,\n",
              "                       min_samples_leaf=1, min_samples_split=2,\n",
              "                       min_weight_fraction_leaf=0.0, presort='deprecated',\n",
              "                       random_state=0, splitter='best')"
            ]
          },
          "metadata": {
            "tags": []
          },
          "execution_count": 35
        }
      ]
    },
    {
      "cell_type": "code",
      "metadata": {
        "colab": {
          "base_uri": "https://localhost:8080/"
        },
        "id": "_yEzT6eAmDV1",
        "outputId": "e45cd35b-eb86-4cf1-cf2a-e05d9c65c86a"
      },
      "source": [
        "pred1 = clf1.predict(test_x)\n",
        "pred1"
      ],
      "execution_count": null,
      "outputs": [
        {
          "output_type": "execute_result",
          "data": {
            "text/plain": [
              "array([0, 0, 0, ..., 0, 0, 0])"
            ]
          },
          "metadata": {
            "tags": []
          },
          "execution_count": 36
        }
      ]
    },
    {
      "cell_type": "code",
      "metadata": {
        "colab": {
          "base_uri": "https://localhost:8080/"
        },
        "id": "zT1Jv6JgmIS6",
        "outputId": "8ae56e5b-4f1f-4185-b547-93a46ad3eefe"
      },
      "source": [
        "from sklearn.metrics import accuracy_score\n",
        "\n",
        "print('The accuracy of the Decision Tree is {}%'.format(round(accuracy_score(pred1,test_y)*100,2)))"
      ],
      "execution_count": null,
      "outputs": [
        {
          "output_type": "stream",
          "text": [
            "The accuracy of the Decision Tree is 99.8%\n"
          ],
          "name": "stdout"
        }
      ]
    }
  ]
}